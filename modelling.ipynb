{
 "cells": [
  {
   "cell_type": "code",
   "execution_count": null,
   "metadata": {},
   "outputs": [],
   "source": [
    "# Define the target variable\n",
    "y = df['Diagnosis'].values  # Target variable (M or B)\n",
    "\n",
    "# Separate the features (excluding ID and Diagnosis)\n",
    "X = df.iloc[:, 2:].values  # Features"
   ]
  }
 ],
 "metadata": {
  "language_info": {
   "name": "python"
  }
 },
 "nbformat": 4,
 "nbformat_minor": 2
}
